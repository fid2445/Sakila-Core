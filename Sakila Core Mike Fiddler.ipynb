{
 "cells": [
  {
   "cell_type": "markdown",
   "id": "84c40dfe",
   "metadata": {},
   "source": [
    "Sakila Core Mike Fiddler"
   ]
  },
  {
   "cell_type": "markdown",
   "id": "877a5bbc",
   "metadata": {},
   "source": [
    "#1. What query would you run to get all the customers inside city_id = 312? \n",
    "#Your query should return the customers' first name, last name, email, address, and city. "
   ]
  },
  {
   "cell_type": "code",
   "execution_count": 7,
   "id": "a8b08a04",
   "metadata": {},
   "outputs": [
    {
     "ename": "NameError",
     "evalue": "name 'engine' is not defined",
     "output_type": "error",
     "traceback": [
      "\u001b[1;31m---------------------------------------------------------------------------\u001b[0m",
      "\u001b[1;31mNameError\u001b[0m                                 Traceback (most recent call last)",
      "Input \u001b[1;32mIn [7]\u001b[0m, in \u001b[0;36m<cell line: 5>\u001b[1;34m()\u001b[0m\n\u001b[0;32m      3\u001b[0m \u001b[38;5;28;01mimport\u001b[39;00m \u001b[38;5;21;01mmatplotlib\u001b[39;00m\u001b[38;5;21;01m.\u001b[39;00m\u001b[38;5;21;01mpyplot\u001b[39;00m \u001b[38;5;28;01mas\u001b[39;00m \u001b[38;5;21;01mplt\u001b[39;00m\n\u001b[0;32m      4\u001b[0m \u001b[38;5;28;01mfrom\u001b[39;00m \u001b[38;5;21;01msqlalchemy\u001b[39;00m \u001b[38;5;28;01mimport\u001b[39;00m create_engine\n\u001b[1;32m----> 5\u001b[0m conn \u001b[38;5;241m=\u001b[39m \u001b[43mengine\u001b[49m\u001b[38;5;241m.\u001b[39mconnect()\n",
      "\u001b[1;31mNameError\u001b[0m: name 'engine' is not defined"
     ]
    }
   ],
   "source": [
    "import pandas as pd\n",
    "import seaborn as sns\n",
    "import matplotlib.pyplot as plt\n",
    "from sqlalchemy import create_engine\n",
    "engine = create_engine('sqlite:///schools.db', echo=True)\n",
    "conn = engine.connect()"
   ]
  },
  {
   "cell_type": "code",
   "execution_count": 6,
   "id": "6b2fd2db",
   "metadata": {},
   "outputs": [
    {
     "ename": "TypeError",
     "evalue": "read_sql() missing 1 required positional argument: 'con'",
     "output_type": "error",
     "traceback": [
      "\u001b[1;31m---------------------------------------------------------------------------\u001b[0m",
      "\u001b[1;31mTypeError\u001b[0m                                 Traceback (most recent call last)",
      "Input \u001b[1;32mIn [6]\u001b[0m, in \u001b[0;36m<cell line: 1>\u001b[1;34m()\u001b[0m\n\u001b[1;32m----> 1\u001b[0m df \u001b[38;5;241m=\u001b[39m \u001b[43mpd\u001b[49m\u001b[38;5;241;43m.\u001b[39;49m\u001b[43mread_sql\u001b[49m\u001b[43m(\u001b[49m\u001b[38;5;124;43m'\u001b[39;49m\u001b[38;5;124;43msakila data/sakila-data.sql\u001b[39;49m\u001b[38;5;124;43m'\u001b[39;49m\u001b[43m)\u001b[49m\n",
      "\u001b[1;31mTypeError\u001b[0m: read_sql() missing 1 required positional argument: 'con'"
     ]
    }
   ],
   "source": [
    "df = pd.read_sql('sakila data/sakila-data.sql')"
   ]
  },
  {
   "cell_type": "code",
   "execution_count": 1,
   "id": "8f3a3170",
   "metadata": {},
   "outputs": [
    {
     "ename": "SyntaxError",
     "evalue": "invalid syntax (2184169449.py, line 1)",
     "output_type": "error",
     "traceback": [
      "\u001b[1;36m  Input \u001b[1;32mIn [1]\u001b[1;36m\u001b[0m\n\u001b[1;33m    SELECT customer.first_name, customer.last_name, customer.email, address.address, city.city\u001b[0m\n\u001b[1;37m           ^\u001b[0m\n\u001b[1;31mSyntaxError\u001b[0m\u001b[1;31m:\u001b[0m invalid syntax\n"
     ]
    }
   ],
   "source": [
    "SELECT customer.first_name, customer.last_name, customer.email, address.address, city.city\n",
    "FROM customer, address, city\n",
    "WHERE city.city_id = 312"
   ]
  },
  {
   "cell_type": "code",
   "execution_count": 8,
   "id": "e1f76a07",
   "metadata": {},
   "outputs": [
    {
     "ename": "SyntaxError",
     "evalue": "invalid syntax (2902658088.py, line 5)",
     "output_type": "error",
     "traceback": [
      "\u001b[1;36m  Input \u001b[1;32mIn [8]\u001b[1;36m\u001b[0m\n\u001b[1;33m    SELECT film.title, film.description, film.release_year, film.rating, film.special_features\u001b[0m\n\u001b[1;37m           ^\u001b[0m\n\u001b[1;31mSyntaxError\u001b[0m\u001b[1;31m:\u001b[0m invalid syntax\n"
     ]
    }
   ],
   "source": [
    "#2. What query would you run to get all comedy films? \n",
    "#Note that the genre is called the category in this schema.  \n",
    "#Your query should return film title, description, release year, rating, \n",
    "#and special features.\n",
    "SELECT film.title, film.description, film.release_year, film.rating, film.special_features\n",
    "FROM film\n",
    "WHERE category.name = comedy"
   ]
  },
  {
   "cell_type": "code",
   "execution_count": 9,
   "id": "cc5b8db2",
   "metadata": {},
   "outputs": [
    {
     "ename": "SyntaxError",
     "evalue": "invalid syntax (293621161.py, line 3)",
     "output_type": "error",
     "traceback": [
      "\u001b[1;36m  Input \u001b[1;32mIn [9]\u001b[1;36m\u001b[0m\n\u001b[1;33m    SELECT actor.last_name, film.title, film.release_year\u001b[0m\n\u001b[1;37m           ^\u001b[0m\n\u001b[1;31mSyntaxError\u001b[0m\u001b[1;31m:\u001b[0m invalid syntax\n"
     ]
    }
   ],
   "source": [
    "#3. What query would you run to get all the films that Johnny Lollobrigida was in? \n",
    "#Your query should return the actor's last name, film title, and release year. \n",
    "SELECT actor.last_name, film.title, film.release_year\n",
    "FROM actor, film\n",
    "WHERE actor.last_name = Lollobrigida"
   ]
  },
  {
   "cell_type": "code",
   "execution_count": 10,
   "id": "af05b9ef",
   "metadata": {},
   "outputs": [
    {
     "ename": "SyntaxError",
     "evalue": "invalid syntax (384661285.py, line 3)",
     "output_type": "error",
     "traceback": [
      "\u001b[1;36m  Input \u001b[1;32mIn [10]\u001b[1;36m\u001b[0m\n\u001b[1;33m    SELECT actor.first_name, actor.last_name\u001b[0m\n\u001b[1;37m           ^\u001b[0m\n\u001b[1;31mSyntaxError\u001b[0m\u001b[1;31m:\u001b[0m invalid syntax\n"
     ]
    }
   ],
   "source": [
    "#4. What query would you run to get the first and last names of all \n",
    "#the actors in the movie titled \"Bingo Talented\"?\n",
    "SELECT actor.first_name, actor.last_name\n",
    "FROM actor\n",
    "JOIN film\n",
    "ON film.title = actor.last_name\n",
    "WHERE film.title = Bingo Talented"
   ]
  },
  {
   "cell_type": "code",
   "execution_count": 11,
   "id": "0ff62a8d",
   "metadata": {},
   "outputs": [
    {
     "ename": "SyntaxError",
     "evalue": "invalid syntax (907947553.py, line 5)",
     "output_type": "error",
     "traceback": [
      "\u001b[1;36m  Input \u001b[1;32mIn [11]\u001b[1;36m\u001b[0m\n\u001b[1;33m    SELECT customer.customer_id, payment.amount\u001b[0m\n\u001b[1;37m           ^\u001b[0m\n\u001b[1;31mSyntaxError\u001b[0m\u001b[1;31m:\u001b[0m invalid syntax\n"
     ]
    }
   ],
   "source": [
    "#5. What query would you run to get the customer_id associated with all payments \n",
    "#greater than twice the average payment amount? \n",
    "#(HINT: use 2* in your query to get twice the amount). \n",
    "#Your result should include the customer id and the amount.\n",
    "SELECT customer.customer_id, payment.amount\n",
    "FROM customer, payment\n",
    "WHERE payment.amount > payment.amount*2"
   ]
  },
  {
   "cell_type": "code",
   "execution_count": 12,
   "id": "647c8064",
   "metadata": {},
   "outputs": [
    {
     "ename": "SyntaxError",
     "evalue": "invalid syntax (2256877049.py, line 4)",
     "output_type": "error",
     "traceback": [
      "\u001b[1;36m  Input \u001b[1;32mIn [12]\u001b[1;36m\u001b[0m\n\u001b[1;33m    SELECT customer.first_name, customer.last_name\u001b[0m\n\u001b[1;37m           ^\u001b[0m\n\u001b[1;31mSyntaxError\u001b[0m\u001b[1;31m:\u001b[0m invalid syntax\n"
     ]
    }
   ],
   "source": [
    "#6. What query would you run to list the first and last names of the 5 customers who \n",
    "#have the highest number(count) of payments? You can title the number of \n",
    "#payments as num_payments.\n",
    "SELECT customer.first_name, customer.last_name\n",
    "\t(SELECT COUNT(payment.amount)\n",
    "    FROM payment\n",
    "FROM customer\n",
    "LIMIT 5"
   ]
  },
  {
   "cell_type": "code",
   "execution_count": null,
   "id": "a8244ec9",
   "metadata": {},
   "outputs": [],
   "source": []
  }
 ],
 "metadata": {
  "kernelspec": {
   "display_name": "Python (dojo-env)",
   "language": "python",
   "name": "dojo-env"
  },
  "language_info": {
   "codemirror_mode": {
    "name": "ipython",
    "version": 3
   },
   "file_extension": ".py",
   "mimetype": "text/x-python",
   "name": "python",
   "nbconvert_exporter": "python",
   "pygments_lexer": "ipython3",
   "version": "3.8.13"
  },
  "toc": {
   "base_numbering": 1,
   "nav_menu": {},
   "number_sections": false,
   "sideBar": true,
   "skip_h1_title": false,
   "title_cell": "Table of Contents",
   "title_sidebar": "Contents",
   "toc_cell": false,
   "toc_position": {},
   "toc_section_display": true,
   "toc_window_display": false
  }
 },
 "nbformat": 4,
 "nbformat_minor": 5
}
